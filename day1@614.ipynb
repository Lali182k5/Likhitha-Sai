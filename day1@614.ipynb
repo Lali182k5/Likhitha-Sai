{
 "cells": [
  {
   "cell_type": "code",
   "execution_count": 8,
   "id": "7342d504-6298-4cbb-b504-0a63ea9ca3f4",
   "metadata": {},
   "outputs": [],
   "source": [
    "import numpy as np"
   ]
  },
  {
   "cell_type": "code",
   "execution_count": 16,
   "id": "6c429efb-37f4-4471-9f41-6f05dd719525",
   "metadata": {},
   "outputs": [
    {
     "data": {
      "text/plain": [
       "dtype('<U5')"
      ]
     },
     "execution_count": 16,
     "metadata": {},
     "output_type": "execute_result"
    }
   ],
   "source": [
    "import numpy as np\n",
    "t1=\"hello\"\n",
    "ar1=np.array(t1)\n",
    "ar1.dtype"
   ]
  },
  {
   "cell_type": "code",
   "execution_count": 17,
   "id": "eea5c658-d824-42ee-b624-a242a0273dc4",
   "metadata": {},
   "outputs": [
    {
     "data": {
      "text/plain": [
       "[1, 2, 3, 4, 5]"
      ]
     },
     "execution_count": 17,
     "metadata": {},
     "output_type": "execute_result"
    }
   ],
   "source": [
    "arr=(1,2,3,4,5)\n",
    "list(arr)"
   ]
  },
  {
   "cell_type": "code",
   "execution_count": 18,
   "id": "65141ee8-8922-4e82-90b4-a0b81579fb74",
   "metadata": {},
   "outputs": [
    {
     "data": {
      "text/plain": [
       "list"
      ]
     },
     "execution_count": 18,
     "metadata": {},
     "output_type": "execute_result"
    }
   ],
   "source": [
    "type(list(arr))"
   ]
  },
  {
   "cell_type": "code",
   "execution_count": 19,
   "id": "642956b5-3954-49fb-9b35-5da37ed9b1e1",
   "metadata": {},
   "outputs": [
    {
     "data": {
      "text/plain": [
       "array({'a': 100, 'b': 200}, dtype=object)"
      ]
     },
     "execution_count": 19,
     "metadata": {},
     "output_type": "execute_result"
    }
   ],
   "source": [
    "import numpy as np\n",
    "t1={\"a\":100, \"b\":200}\n",
    "ar1=np.array(t1)\n",
    "ar1"
   ]
  },
  {
   "cell_type": "code",
   "execution_count": 20,
   "id": "b4a575db-5a1d-4ffd-a043-ab16d2c27d72",
   "metadata": {},
   "outputs": [
    {
     "data": {
      "text/plain": [
       "(1, 2, 3, 4, 5, 1, 2, 3, 4, 5)"
      ]
     },
     "execution_count": 20,
     "metadata": {},
     "output_type": "execute_result"
    }
   ],
   "source": [
    "arr*2"
   ]
  },
  {
   "cell_type": "code",
   "execution_count": 21,
   "id": "bd9a99a1-b008-4912-b2e8-e7293e9e68f8",
   "metadata": {},
   "outputs": [
    {
     "name": "stdout",
     "output_type": "stream",
     "text": [
      "Package                   Version\n",
      "------------------------- ---------------\n",
      "anyio                     4.2.0\n",
      "argon2-cffi               23.1.0\n",
      "argon2-cffi-bindings      21.2.0\n",
      "arrow                     1.3.0\n",
      "asttokens                 2.4.1\n",
      "async-lru                 2.0.4\n",
      "attrs                     23.2.0\n",
      "Babel                     2.14.0\n",
      "beautifulsoup4            4.12.3\n",
      "bleach                    6.1.0\n",
      "certifi                   2024.2.2\n",
      "cffi                      1.16.0\n",
      "charset-normalizer        3.3.2\n",
      "colorama                  0.4.6\n",
      "comm                      0.2.1\n",
      "debugpy                   1.8.1\n",
      "decorator                 5.1.1\n",
      "defusedxml                0.7.1\n",
      "executing                 2.0.1\n",
      "fastjsonschema            2.19.1\n",
      "fqdn                      1.5.1\n",
      "idna                      3.6\n",
      "ipykernel                 6.29.2\n",
      "ipython                   8.21.0\n",
      "Note: you may need to restart the kernel to use updated packages.\n",
      "ipywidgets                8.1.2\n",
      "isoduration               20.11.0\n",
      "jedi                      0.19.1\n",
      "Jinja2                    3.1.3\n",
      "json5                     0.9.14\n",
      "jsonpointer               2.4\n",
      "jsonschema                4.21.1\n",
      "jsonschema-specifications 2023.12.1\n",
      "jupyter                   1.0.0\n",
      "jupyter_client            8.6.0\n",
      "jupyter-console           6.6.3\n",
      "jupyter_core              5.7.1\n",
      "jupyter-events            0.9.0\n",
      "jupyter-lsp               2.2.2\n",
      "jupyter_server            2.12.5\n",
      "jupyter_server_terminals  0.5.2\n",
      "jupyterlab                4.0.12\n",
      "jupyterlab_pygments       0.3.0\n",
      "jupyterlab_server         2.25.2\n",
      "jupyterlab_widgets        3.0.10\n",
      "MarkupSafe                2.1.5\n",
      "matplotlib-inline         0.1.6\n",
      "mistune                   3.0.2\n",
      "nbclient                  0.9.0\n",
      "nbconvert                 7.16.0\n",
      "nbformat                  5.9.2\n",
      "nest-asyncio              1.6.0\n",
      "notebook                  7.0.8\n",
      "notebook_shim             0.2.3\n",
      "numpy                     1.26.4\n",
      "overrides                 7.7.0\n",
      "packaging                 23.2\n",
      "pandas                    2.2.0\n",
      "pandocfilters             1.5.1\n",
      "parso                     0.8.3\n",
      "pip                       24.0\n",
      "platformdirs              4.2.0\n",
      "prometheus-client         0.19.0\n",
      "prompt-toolkit            3.0.43\n",
      "psutil                    5.9.8\n",
      "pure-eval                 0.2.2\n",
      "pycparser                 2.21\n",
      "Pygments                  2.17.2\n",
      "python-dateutil           2.8.2\n",
      "python-json-logger        2.0.7\n",
      "pytz                      2024.1\n",
      "pywin32                   306\n",
      "pywinpty                  2.0.12\n",
      "PyYAML                    6.0.1\n",
      "pyzmq                     25.1.2\n",
      "qtconsole                 5.5.1\n",
      "QtPy                      2.4.1\n",
      "referencing               0.33.0\n",
      "requests                  2.31.0\n",
      "rfc3339-validator         0.1.4\n",
      "rfc3986-validator         0.1.1\n",
      "rpds-py                   0.17.1\n",
      "Send2Trash                1.8.2\n",
      "six                       1.16.0\n",
      "sniffio                   1.3.0\n",
      "soupsieve                 2.5\n",
      "stack-data                0.6.3\n",
      "terminado                 0.18.0\n",
      "tinycss2                  1.2.1\n",
      "tornado                   6.4\n",
      "traitlets                 5.14.1\n",
      "types-python-dateutil     2.8.19.20240106\n",
      "tzdata                    2024.1\n",
      "uri-template              1.3.0\n",
      "urllib3                   2.2.0\n",
      "wcwidth                   0.2.13\n",
      "webcolors                 1.13\n",
      "webencodings              0.5.1\n",
      "websocket-client          1.7.0\n",
      "widgetsnbextension        4.0.10\n"
     ]
    }
   ],
   "source": [
    "pip list\n"
   ]
  },
  {
   "cell_type": "code",
   "execution_count": 22,
   "id": "c36d0b2e-4b9a-48c6-9f60-55da70e4a715",
   "metadata": {},
   "outputs": [
    {
     "data": {
      "text/plain": [
       "array([ 1.  ,  2.  ,  3.45,  9.  , 89.  ,  2.  ])"
      ]
     },
     "execution_count": 22,
     "metadata": {},
     "output_type": "execute_result"
    }
   ],
   "source": [
    "ar2=[1,2,3.45,9,89,2]\n",
    "np_ar=np.array(ar2)\n",
    "np_ar"
   ]
  },
  {
   "cell_type": "code",
   "execution_count": 23,
   "id": "baaf43fa-23cb-4b4c-93d9-6e1aa803d13d",
   "metadata": {},
   "outputs": [
    {
     "data": {
      "text/plain": [
       "array([ 1.  ,  2.  ,  3.45,  9.  , 89.  ,  2.  , 56.  , 90.  , 89.  ])"
      ]
     },
     "execution_count": 23,
     "metadata": {},
     "output_type": "execute_result"
    }
   ],
   "source": [
    "new_ar=np.append(np_ar,[56,90,89])          #To add multiple values to array\n",
    "new_ar"
   ]
  },
  {
   "cell_type": "code",
   "execution_count": 24,
   "id": "22e44294-bc4a-4ad6-b61a-c6fa1d27a9a7",
   "metadata": {},
   "outputs": [
    {
     "data": {
      "text/plain": [
       "array([  1.  ,   2.  , 123.  ,   3.45,   9.  ,  89.  ,   2.  ])"
      ]
     },
     "execution_count": 24,
     "metadata": {},
     "output_type": "execute_result"
    }
   ],
   "source": [
    "#insert\n",
    "#based on index value to add the element  into array\n",
    "#np.insert(array_to_be_modified,index_position,value)\n",
    "new_ar=np.insert(np_ar,2,123)\n",
    "new_ar"
   ]
  },
  {
   "cell_type": "code",
   "execution_count": 25,
   "id": "1151c43b-25a4-4768-9bf0-ca845fbe3430",
   "metadata": {},
   "outputs": [
    {
     "data": {
      "text/plain": [
       "array([  1.  ,   2.  , 456.  , 932.  , 189.  ,   3.45,   9.  ,  89.  ,\n",
       "         2.  ])"
      ]
     },
     "execution_count": 25,
     "metadata": {},
     "output_type": "execute_result"
    }
   ],
   "source": [
    "#to insert multiple values in array\n",
    "#np.insert (array_to_be_modified,index_position,values in list or tuple)\n",
    "new_ar=np.insert(np_ar,2,(456,932,189))\n",
    "new_ar"
   ]
  },
  {
   "cell_type": "code",
   "execution_count": 26,
   "id": "98e34bb0-d81b-4ab3-a7cc-2f6dbd1a04f2",
   "metadata": {},
   "outputs": [
    {
     "data": {
      "text/plain": [
       "array([ 1.  ,  3.45,  9.  , 89.  ])"
      ]
     },
     "execution_count": 26,
     "metadata": {},
     "output_type": "execute_result"
    }
   ],
   "source": [
    "nr=np.delete(np_ar,np.where(np_ar==2.0))        #delete num 2 from the array\n",
    "nr"
   ]
  },
  {
   "cell_type": "code",
   "execution_count": 27,
   "id": "17eb9c90-6b39-402e-a3f0-8c5dd79a0c94",
   "metadata": {},
   "outputs": [
    {
     "data": {
      "text/plain": [
       "array([ 2.  ,  3.45,  9.  , 89.  ,  2.  ])"
      ]
     },
     "execution_count": 27,
     "metadata": {},
     "output_type": "execute_result"
    }
   ],
   "source": [
    "nr=np.delete(np_ar,np.where(np_ar==1.0))         #delete num 1 in array\n",
    "nr"
   ]
  },
  {
   "cell_type": "code",
   "execution_count": 28,
   "id": "49d5b06e-37ae-4454-a7fa-017d8e35ae11",
   "metadata": {},
   "outputs": [
    {
     "data": {
      "text/plain": [
       "array([ 3.45, 89.  ])"
      ]
     },
     "execution_count": 28,
     "metadata": {},
     "output_type": "execute_result"
    }
   ],
   "source": [
    "#to delete number of values in array\n",
    "nr=np.setdiff1d(np_ar,[1.0,2.0,9.0])\n",
    "nr"
   ]
  },
  {
   "cell_type": "code",
   "execution_count": 29,
   "id": "376c970c-d902-4310-aa12-379ef042be23",
   "metadata": {},
   "outputs": [
    {
     "data": {
      "text/plain": [
       "array([ 1.  ,  2.  ,  3.45, 89.  ,  2.  ])"
      ]
     },
     "execution_count": 29,
     "metadata": {},
     "output_type": "execute_result"
    }
   ],
   "source": [
    "#to delete based on index position\n",
    "nr=np.delete(np_ar,3)\n",
    "nr"
   ]
  },
  {
   "cell_type": "code",
   "execution_count": 30,
   "id": "65acd40d-f0ab-459e-b6bd-9e929bce6c4b",
   "metadata": {},
   "outputs": [
    {
     "data": {
      "text/plain": [
       "array([ 1.,  9., 89.,  2.])"
      ]
     },
     "execution_count": 30,
     "metadata": {},
     "output_type": "execute_result"
    }
   ],
   "source": [
    "#to delete multiple values based on index position\n",
    "nr=np.delete(np_ar,[1,2])\n",
    "nr"
   ]
  },
  {
   "cell_type": "code",
   "execution_count": 33,
   "id": "f11dfa24-e1bc-4c5e-be9b-709c25121c8f",
   "metadata": {},
   "outputs": [],
   "source": [
    "#\n",
    "l1=[1,45,23,90,78,12,94,26,15,8,7]\n",
    "new_ar=np.array(l1)"
   ]
  },
  {
   "cell_type": "code",
   "execution_count": 34,
   "id": "59691c06-20c8-41a2-90dc-c8d043f0dc47",
   "metadata": {},
   "outputs": [
    {
     "data": {
      "text/plain": [
       "array([ True, False,  True, False, False,  True, False,  True,  True,\n",
       "        True,  True])"
      ]
     },
     "execution_count": 34,
     "metadata": {},
     "output_type": "execute_result"
    }
   ],
   "source": [
    "#filter in numpy array\n",
    "new_ar<30      #returns true if the num is less than 30 otherwise returns false"
   ]
  },
  {
   "cell_type": "code",
   "execution_count": 35,
   "id": "fe5552f6-42e0-4816-a3d9-168302d5d371",
   "metadata": {},
   "outputs": [
    {
     "data": {
      "text/plain": [
       "array([45, 90, 78, 94])"
      ]
     },
     "execution_count": 35,
     "metadata": {},
     "output_type": "execute_result"
    }
   ],
   "source": [
    "new_ar[new_ar>30]"
   ]
  },
  {
   "cell_type": "code",
   "execution_count": 36,
   "id": "9ef64aec-5464-46f5-8e13-a7d1fe6a3679",
   "metadata": {},
   "outputs": [
    {
     "data": {
      "text/plain": [
       "array([ 1, 23, 12, 26, 15,  8,  7])"
      ]
     },
     "execution_count": 36,
     "metadata": {},
     "output_type": "execute_result"
    }
   ],
   "source": [
    "new_ar[new_ar<30]"
   ]
  },
  {
   "cell_type": "code",
   "execution_count": 37,
   "id": "ec55c541-e7a3-4217-9e21-4264a7702dbc",
   "metadata": {},
   "outputs": [
    {
     "data": {
      "text/plain": [
       "array([False, False, False, False, False, False, False, False, False,\n",
       "       False, False])"
      ]
     },
     "execution_count": 37,
     "metadata": {},
     "output_type": "execute_result"
    }
   ],
   "source": [
    "#print the values < 20 and > 50\n",
    "# -->for and operation using &\n",
    "# -->for or operation use\n",
    "(new_ar<20)&(new_ar>50)"
   ]
  },
  {
   "cell_type": "code",
   "execution_count": 38,
   "id": "f66b4112-87a3-464c-8dc7-9d38facdcd28",
   "metadata": {},
   "outputs": [
    {
     "data": {
      "text/plain": [
       "array([45, 23, 26])"
      ]
     },
     "execution_count": 38,
     "metadata": {},
     "output_type": "execute_result"
    }
   ],
   "source": [
    "new_ar[(new_ar>20) & (new_ar<50)]"
   ]
  },
  {
   "cell_type": "code",
   "execution_count": 39,
   "id": "7c92b274-4e75-4d82-a414-7542955bdc18",
   "metadata": {},
   "outputs": [
    {
     "data": {
      "text/plain": [
       "array([False, False,  True, False, False, False, False, False, False,\n",
       "       False, False])"
      ]
     },
     "execution_count": 39,
     "metadata": {},
     "output_type": "execute_result"
    }
   ],
   "source": [
    "#to replace value in array\n",
    "new_ar==23                      #23 place displays TRUE remaining shows FALSE"
   ]
  },
  {
   "cell_type": "code",
   "execution_count": 41,
   "id": "6a72fe4a-62e7-409c-b27b-00fd686bcb38",
   "metadata": {},
   "outputs": [],
   "source": [
    "new_ar[new_ar==23]=156         # 23 replace with 156"
   ]
  },
  {
   "cell_type": "code",
   "execution_count": 43,
   "id": "00e53ff1-b9a2-41cb-9067-be3e089ff390",
   "metadata": {},
   "outputs": [
    {
     "data": {
      "text/plain": [
       "array([  1,  45, 156,  90,  78,  12,  94,  26,  15,   8,   7])"
      ]
     },
     "execution_count": 43,
     "metadata": {},
     "output_type": "execute_result"
    }
   ],
   "source": [
    "new_ar"
   ]
  },
  {
   "cell_type": "code",
   "execution_count": 44,
   "id": "d73451f6-0520-439d-8676-399155792c8c",
   "metadata": {},
   "outputs": [
    {
     "data": {
      "text/plain": [
       "array([0., 0., 0., 0., 0.])"
      ]
     },
     "execution_count": 44,
     "metadata": {},
     "output_type": "execute_result"
    }
   ],
   "source": [
    "#to create array full of zeroes\n",
    "np.zeros(5)"
   ]
  },
  {
   "cell_type": "code",
   "execution_count": 45,
   "id": "cdd8a48b-a4ac-4bb2-9345-fd96a06067b1",
   "metadata": {},
   "outputs": [
    {
     "data": {
      "text/plain": [
       "array([[0., 0., 0., 0., 0.],\n",
       "       [0., 0., 0., 0., 0.],\n",
       "       [0., 0., 0., 0., 0.]])"
      ]
     },
     "execution_count": 45,
     "metadata": {},
     "output_type": "execute_result"
    }
   ],
   "source": [
    "#To create 2D array full of zeros\n",
    "#Syntax  -->np.zeros([num_of_rows,num_of_cols])\n",
    "np.zeros([3,5])"
   ]
  },
  {
   "cell_type": "code",
   "execution_count": 46,
   "id": "a471cb5c-e5a8-48df-ab94-31a902fd55f3",
   "metadata": {},
   "outputs": [
    {
     "data": {
      "text/plain": [
       "array([[1., 1., 1., 1.],\n",
       "       [1., 1., 1., 1.],\n",
       "       [1., 1., 1., 1.]])"
      ]
     },
     "execution_count": 46,
     "metadata": {},
     "output_type": "execute_result"
    }
   ],
   "source": [
    "np.ones([3,4])"
   ]
  },
  {
   "cell_type": "code",
   "execution_count": 48,
   "id": "f6c1070b-5f73-44b8-b72f-695227d69cb1",
   "metadata": {},
   "outputs": [
    {
     "data": {
      "text/plain": [
       "array([1., 1., 1., 1.])"
      ]
     },
     "execution_count": 48,
     "metadata": {},
     "output_type": "execute_result"
    }
   ],
   "source": [
    "np.ones(4)"
   ]
  },
  {
   "cell_type": "code",
   "execution_count": 49,
   "id": "62f1b143-2d9d-4d3d-9d31-450dde4d6d4f",
   "metadata": {},
   "outputs": [
    {
     "data": {
      "text/plain": [
       "array([[1., 1., 1., 1., 1.],\n",
       "       [1., 1., 1., 1., 1.],\n",
       "       [1., 1., 1., 1., 1.],\n",
       "       [1., 1., 1., 1., 1.],\n",
       "       [1., 1., 1., 1., 1.]])"
      ]
     },
     "execution_count": 49,
     "metadata": {},
     "output_type": "execute_result"
    }
   ],
   "source": [
    "np.ones([5,5])"
   ]
  },
  {
   "cell_type": "code",
   "execution_count": 50,
   "id": "4bdb918f-d688-4f1f-a37f-0e81d069bef4",
   "metadata": {},
   "outputs": [
    {
     "data": {
      "text/plain": [
       "dtype('float64')"
      ]
     },
     "execution_count": 50,
     "metadata": {},
     "output_type": "execute_result"
    }
   ],
   "source": [
    "# Type convert the element in array\n",
    "# To find the numpy datatype of element present in array -->dtype\n",
    "#type(ar)\n",
    "np_ar.dtype"
   ]
  },
  {
   "cell_type": "code",
   "execution_count": 51,
   "id": "dfdeced8-38b6-4b51-83cc-fb0f7b99f960",
   "metadata": {},
   "outputs": [
    {
     "data": {
      "text/plain": [
       "array([[0, 0, 0, 0],\n",
       "       [0, 0, 0, 0]], dtype=int16)"
      ]
     },
     "execution_count": 51,
     "metadata": {},
     "output_type": "execute_result"
    }
   ],
   "source": [
    "# We can convert the values in numpy array to various bits\n",
    "# They are\n",
    "#int8,int16,int32,int64\n",
    "#float16,float32,float64\n",
    "#complex64,complex128\n",
    "#unit32,unit16\n",
    "ar=np.zeros([2,4], dtype='int16')\n",
    "ar"
   ]
  },
  {
   "cell_type": "code",
   "execution_count": 52,
   "id": "0035dc53-c092-4a6e-ab8a-a2becbc2befb",
   "metadata": {},
   "outputs": [
    {
     "data": {
      "text/plain": [
       "array([[0., 0., 0., 0.],\n",
       "       [0., 0., 0., 0.]], dtype=float16)"
      ]
     },
     "execution_count": 52,
     "metadata": {},
     "output_type": "execute_result"
    }
   ],
   "source": [
    "ar=np.zeros([2,4], dtype='float16')\n",
    "ar\n"
   ]
  },
  {
   "cell_type": "code",
   "execution_count": 53,
   "id": "6da53edc-3ae4-4663-a988-daaaba8745c9",
   "metadata": {},
   "outputs": [
    {
     "data": {
      "text/plain": [
       "array([[0.+0.j, 0.+0.j, 0.+0.j, 0.+0.j],\n",
       "       [0.+0.j, 0.+0.j, 0.+0.j, 0.+0.j]], dtype=complex64)"
      ]
     },
     "execution_count": 53,
     "metadata": {},
     "output_type": "execute_result"
    }
   ],
   "source": [
    "ar=np.zeros([2,4], dtype='complex64')\n",
    "ar\n"
   ]
  },
  {
   "cell_type": "code",
   "execution_count": null,
   "id": "9019521a-b495-4aa6-a526-1085f9c3a77b",
   "metadata": {},
   "outputs": [],
   "source": [
    "#TASKS:"
   ]
  },
  {
   "cell_type": "code",
   "execution_count": 54,
   "id": "e56f0d7c-7e4f-43de-8492-771fd2820434",
   "metadata": {},
   "outputs": [
    {
     "data": {
      "text/plain": [
       "array([0, 1, 2, 3, 4, 5, 6, 7, 8, 9])"
      ]
     },
     "execution_count": 54,
     "metadata": {},
     "output_type": "execute_result"
    }
   ],
   "source": [
    "#TASK  1.How to create range of element as array\n",
    "import numpy as np\n",
    "ar1=np.arange(10)\n",
    "ar1"
   ]
  },
  {
   "cell_type": "code",
   "execution_count": 55,
   "id": "11317d20-3e17-4cea-84e2-f78cb00543c5",
   "metadata": {},
   "outputs": [
    {
     "data": {
      "text/plain": [
       "10"
      ]
     },
     "execution_count": 55,
     "metadata": {},
     "output_type": "execute_result"
    }
   ],
   "source": [
    "# TASK 2.How to convert a 1D array to multidimensional array\n",
    "ar1\n",
    "len(ar1)"
   ]
  },
  {
   "cell_type": "code",
   "execution_count": 56,
   "id": "00130bd6-0ef1-4f4e-8867-4110020d3de2",
   "metadata": {},
   "outputs": [],
   "source": [
    "reshaped_array=ar1.reshape(10,1)"
   ]
  },
  {
   "cell_type": "code",
   "execution_count": 57,
   "id": "46279629-0f57-4584-924d-32bd49f63265",
   "metadata": {},
   "outputs": [
    {
     "data": {
      "text/plain": [
       "array([[0],\n",
       "       [1],\n",
       "       [2],\n",
       "       [3],\n",
       "       [4],\n",
       "       [5],\n",
       "       [6],\n",
       "       [7],\n",
       "       [8],\n",
       "       [9]])"
      ]
     },
     "execution_count": 57,
     "metadata": {},
     "output_type": "execute_result"
    }
   ],
   "source": [
    "reshaped_array"
   ]
  },
  {
   "cell_type": "code",
   "execution_count": 58,
   "id": "9c32d939-93d4-45e9-a2bd-97fab5239a4a",
   "metadata": {},
   "outputs": [
    {
     "data": {
      "text/plain": [
       "array([[1., 0., 0., 0., 0.],\n",
       "       [0., 1., 0., 0., 0.],\n",
       "       [0., 0., 1., 0., 0.],\n",
       "       [0., 0., 0., 1., 0.],\n",
       "       [0., 0., 0., 0., 1.]])"
      ]
     },
     "execution_count": 58,
     "metadata": {},
     "output_type": "execute_result"
    }
   ],
   "source": [
    "#TASK 3.How to create array of identity matrix\n",
    "np.identity(5)"
   ]
  },
  {
   "cell_type": "code",
   "execution_count": 59,
   "id": "09714780-11e2-4c0a-9bdd-d4db42218589",
   "metadata": {},
   "outputs": [
    {
     "data": {
      "text/plain": [
       "array([[1., 0., 0., 0.],\n",
       "       [0., 1., 0., 0.],\n",
       "       [0., 0., 1., 0.]])"
      ]
     },
     "execution_count": 59,
     "metadata": {},
     "output_type": "execute_result"
    }
   ],
   "source": [
    "np.eye(3,4)"
   ]
  },
  {
   "cell_type": "code",
   "execution_count": 60,
   "id": "779a7318-1494-4ab1-b5cc-d16e820dc998",
   "metadata": {},
   "outputs": [],
   "source": [
    "#TASK 4.How to perform slicing in multidimensional array\n",
    "ar2=np.arange(25).reshape(5,5)"
   ]
  },
  {
   "cell_type": "markdown",
   "id": "9de27fcd-f436-4963-a3a2-a3ade9f8f552",
   "metadata": {},
   "source": [
    "## "
   ]
  },
  {
   "cell_type": "code",
   "execution_count": 61,
   "id": "b63729ae-ef0e-44e5-89f8-972b4214e075",
   "metadata": {},
   "outputs": [
    {
     "data": {
      "text/plain": [
       "array([[ 0,  1,  2,  3,  4],\n",
       "       [ 5,  6,  7,  8,  9],\n",
       "       [10, 11, 12, 13, 14],\n",
       "       [15, 16, 17, 18, 19],\n",
       "       [20, 21, 22, 23, 24]])"
      ]
     },
     "execution_count": 61,
     "metadata": {},
     "output_type": "execute_result"
    }
   ],
   "source": [
    "ar2"
   ]
  },
  {
   "cell_type": "code",
   "execution_count": 62,
   "id": "e6158896-6d20-4ed7-8394-a766c4f68d63",
   "metadata": {},
   "outputs": [
    {
     "name": "stdout",
     "output_type": "stream",
     "text": [
      "3.0\n"
     ]
    }
   ],
   "source": [
    "# TASK 5.How to find the mean,median,sum,varience,standard deviation of an array\n",
    "#MEAN\n",
    "import numpy as np\n",
    "ar3=[1,2,3,4,5]\n",
    "x=np.mean(ar3)\n",
    "print(x)"
   ]
  },
  {
   "cell_type": "code",
   "execution_count": 63,
   "id": "3f2f5821-1cda-4aff-aed2-4497a7fed9d1",
   "metadata": {},
   "outputs": [
    {
     "name": "stdout",
     "output_type": "stream",
     "text": [
      "3.0\n"
     ]
    }
   ],
   "source": [
    "#MEDIAN\n",
    "x=np.median(ar3)\n",
    "print(x)"
   ]
  },
  {
   "cell_type": "code",
   "execution_count": 1,
   "id": "eea258f5-32da-43b8-ba49-d93469eb6da1",
   "metadata": {},
   "outputs": [
    {
     "name": "stdout",
     "output_type": "stream",
     "text": [
      "ModeResult(mode=15, count=2)\n"
     ]
    }
   ],
   "source": [
    "#MODE\n",
    "from scipy import stats as st\n",
    "ar4=[15,25,35,15,20,30]\n",
    "x=st.mode(ar4)\n",
    "print(x)"
   ]
  },
  {
   "cell_type": "code",
   "execution_count": 4,
   "id": "b26100a4-1917-4118-97f6-7c19556f03e6",
   "metadata": {},
   "outputs": [
    {
     "name": "stdout",
     "output_type": "stream",
     "text": [
      "55.555555555555564\n"
     ]
    }
   ],
   "source": [
    "#Varience\n",
    "import numpy as np\n",
    "print(np.var(ar4))"
   ]
  },
  {
   "cell_type": "code",
   "execution_count": 5,
   "id": "c6d8e488-4e0f-4d29-8504-d2711e0ef896",
   "metadata": {},
   "outputs": [
    {
     "name": "stdout",
     "output_type": "stream",
     "text": [
      "7.4535599249993\n"
     ]
    }
   ],
   "source": [
    "#Standard Deviation\n",
    "print(np.std(ar4))"
   ]
  },
  {
   "cell_type": "code",
   "execution_count": null,
   "id": "b6a4515a-c0f8-47dd-8f31-f2461d27a6ac",
   "metadata": {},
   "outputs": [],
   "source": []
  }
 ],
 "metadata": {
  "kernelspec": {
   "display_name": "Python 3 (ipykernel)",
   "language": "python",
   "name": "python3"
  },
  "language_info": {
   "codemirror_mode": {
    "name": "ipython",
    "version": 3
   },
   "file_extension": ".py",
   "mimetype": "text/x-python",
   "name": "python",
   "nbconvert_exporter": "python",
   "pygments_lexer": "ipython3",
   "version": "3.12.2"
  }
 },
 "nbformat": 4,
 "nbformat_minor": 5
}
