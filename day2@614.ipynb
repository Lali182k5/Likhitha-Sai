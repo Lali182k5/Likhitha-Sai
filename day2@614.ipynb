{
 "cells": [
  {
   "cell_type": "code",
   "execution_count": 2,
   "id": "9bf6fb27-1827-4d5e-9834-d87660966929",
   "metadata": {},
   "outputs": [],
   "source": [
    "import numpy as np\n",
    "ar1=np.arange(30)\n"
   ]
  },
  {
   "cell_type": "code",
   "execution_count": 3,
   "id": "7c4886c6-adf5-4772-9f19-b0461616dc5f",
   "metadata": {},
   "outputs": [
    {
     "data": {
      "text/plain": [
       "30"
      ]
     },
     "execution_count": 3,
     "metadata": {},
     "output_type": "execute_result"
    }
   ],
   "source": [
    "ar1\n",
    "len(ar1)"
   ]
  },
  {
   "cell_type": "code",
   "execution_count": 5,
   "id": "104242ea-7614-4ac3-add4-cd4bf6f708a8",
   "metadata": {},
   "outputs": [],
   "source": [
    "reshaped_array=ar1.reshape(30,1)"
   ]
  },
  {
   "cell_type": "code",
   "execution_count": 6,
   "id": "b1fac9e8-b669-40c8-ab28-9a2dbbdf6b8c",
   "metadata": {},
   "outputs": [
    {
     "data": {
      "text/plain": [
       "array([[ 0],\n",
       "       [ 1],\n",
       "       [ 2],\n",
       "       [ 3],\n",
       "       [ 4],\n",
       "       [ 5],\n",
       "       [ 6],\n",
       "       [ 7],\n",
       "       [ 8],\n",
       "       [ 9],\n",
       "       [10],\n",
       "       [11],\n",
       "       [12],\n",
       "       [13],\n",
       "       [14],\n",
       "       [15],\n",
       "       [16],\n",
       "       [17],\n",
       "       [18],\n",
       "       [19],\n",
       "       [20],\n",
       "       [21],\n",
       "       [22],\n",
       "       [23],\n",
       "       [24],\n",
       "       [25],\n",
       "       [26],\n",
       "       [27],\n",
       "       [28],\n",
       "       [29]])"
      ]
     },
     "execution_count": 6,
     "metadata": {},
     "output_type": "execute_result"
    }
   ],
   "source": [
    "reshaped_array"
   ]
  },
  {
   "cell_type": "code",
   "execution_count": 12,
   "id": "08063b65-e8b5-4bce-aee1-bb91040e6edc",
   "metadata": {},
   "outputs": [],
   "source": [
    "#identity matrix can be created using 2 function \n",
    "#eye() --> used to define rows and coloumns\n",
    "#identity()--> used to define same no of rows and coloumns\n",
    "#syntax-->np.identity(5)\n",
    "#syntax -->np.eye(5)\n",
    "np.eye(5)"
   ]
  },
  {
   "cell_type": "code",
   "execution_count": 8,
   "id": "696dcd95-8f1a-4ec0-afb3-756af4a2962e",
   "metadata": {},
   "outputs": [
    {
     "data": {
      "text/plain": [
       "array([[1., 0., 0., 0.],\n",
       "       [0., 1., 0., 0.],\n",
       "       [0., 0., 1., 0.]])"
      ]
     },
     "execution_count": 8,
     "metadata": {},
     "output_type": "execute_result"
    }
   ],
   "source": [
    "np.eye(3,4)"
   ]
  },
  {
   "cell_type": "code",
   "execution_count": 11,
   "id": "e93ca678-cbcb-4de2-bf13-7b1b2feb95ea",
   "metadata": {},
   "outputs": [
    {
     "data": {
      "text/plain": [
       "array([[1., 0., 0., 0., 0.],\n",
       "       [0., 1., 0., 0., 0.],\n",
       "       [0., 0., 1., 0., 0.],\n",
       "       [0., 0., 0., 1., 0.],\n",
       "       [0., 0., 0., 0., 1.]])"
      ]
     },
     "execution_count": 11,
     "metadata": {},
     "output_type": "execute_result"
    }
   ],
   "source": [
    "np.identity(5)"
   ]
  },
  {
   "cell_type": "code",
   "execution_count": 13,
   "id": "aca265f2-66cd-4235-99e0-9be729f06479",
   "metadata": {},
   "outputs": [
    {
     "data": {
      "text/plain": [
       "array([[1., 0., 0., 0., 0.],\n",
       "       [0., 1., 0., 0., 0.],\n",
       "       [0., 0., 1., 0., 0.],\n",
       "       [0., 0., 0., 1., 0.],\n",
       "       [0., 0., 0., 0., 1.]])"
      ]
     },
     "execution_count": 13,
     "metadata": {},
     "output_type": "execute_result"
    }
   ],
   "source": [
    "np.eye(5)"
   ]
  },
  {
   "cell_type": "code",
   "execution_count": null,
   "id": "eab8a79b-1e5b-4557-8b08-bfc996001164",
   "metadata": {},
   "outputs": [],
   "source": []
  },
  {
   "cell_type": "code",
   "execution_count": 16,
   "id": "61ed460a-2afc-45db-9857-69658abc3a71",
   "metadata": {},
   "outputs": [
    {
     "data": {
      "text/plain": [
       "array([[1.+0.j, 0.+0.j, 0.+0.j, 0.+0.j, 0.+0.j],\n",
       "       [0.+0.j, 1.+0.j, 0.+0.j, 0.+0.j, 0.+0.j],\n",
       "       [0.+0.j, 0.+0.j, 1.+0.j, 0.+0.j, 0.+0.j],\n",
       "       [0.+0.j, 0.+0.j, 0.+0.j, 1.+0.j, 0.+0.j],\n",
       "       [0.+0.j, 0.+0.j, 0.+0.j, 0.+0.j, 1.+0.j]])"
      ]
     },
     "execution_count": 16,
     "metadata": {},
     "output_type": "execute_result"
    }
   ],
   "source": [
    "\n",
    "np.identity(5,dtype=complex)"
   ]
  },
  {
   "cell_type": "code",
   "execution_count": 17,
   "id": "dea5da4c-2503-43df-9845-0e6faf19e72d",
   "metadata": {},
   "outputs": [
    {
     "data": {
      "text/plain": [
       "array([[1, 0, 0, 0, 0],\n",
       "       [0, 1, 0, 0, 0],\n",
       "       [0, 0, 1, 0, 0],\n",
       "       [0, 0, 0, 1, 0],\n",
       "       [0, 0, 0, 0, 1]])"
      ]
     },
     "execution_count": 17,
     "metadata": {},
     "output_type": "execute_result"
    }
   ],
   "source": [
    "np.identity(5,dtype=int)"
   ]
  },
  {
   "cell_type": "code",
   "execution_count": 18,
   "id": "b8ef727a-f028-40ec-9b8c-9c57994c31f9",
   "metadata": {},
   "outputs": [],
   "source": [
    "#To perform multidimensionalslicing\n",
    "ar2=np.arange(25).reshape(5,5)"
   ]
  },
  {
   "cell_type": "code",
   "execution_count": 32,
   "id": "1bf746c4-9fff-4379-8168-f5f0bd429b16",
   "metadata": {},
   "outputs": [
    {
     "data": {
      "text/plain": [
       "array([[ 0,  1,  2,  3,  4],\n",
       "       [ 5,  6,  7,  8,  9],\n",
       "       [10, 11, 12, 13, 14],\n",
       "       [15, 16, 17, 18, 19],\n",
       "       [20, 21, 22, 23, 24]])"
      ]
     },
     "execution_count": 32,
     "metadata": {},
     "output_type": "execute_result"
    }
   ],
   "source": [
    "ar2"
   ]
  },
  {
   "cell_type": "code",
   "execution_count": 25,
   "id": "8c0a2cca-dee9-49d1-951d-9a0eeeb8c49f",
   "metadata": {},
   "outputs": [
    {
     "data": {
      "text/plain": [
       "array([[ 1,  2,  3],\n",
       "       [ 6,  7,  8],\n",
       "       [11, 12, 13]])"
      ]
     },
     "execution_count": 25,
     "metadata": {},
     "output_type": "execute_result"
    }
   ],
   "source": [
    "#ar2[rows,coloumns,step]\n",
    "#ar2[row_start :now_end,col_start,col_end,step]\n",
    "ar2[0:3,1:4]"
   ]
  },
  {
   "cell_type": "code",
   "execution_count": 21,
   "id": "22ee981b-c12c-4bf5-a395-72c8e832c3dc",
   "metadata": {},
   "outputs": [
    {
     "data": {
      "text/plain": [
       "array([[ 5,  6,  7,  8,  9],\n",
       "       [10, 11, 12, 13, 14]])"
      ]
     },
     "execution_count": 21,
     "metadata": {},
     "output_type": "execute_result"
    }
   ],
   "source": [
    "ar2[1:3]"
   ]
  },
  {
   "cell_type": "code",
   "execution_count": 28,
   "id": "27108391-04c0-4caa-84aa-77d846160aac",
   "metadata": {},
   "outputs": [
    {
     "data": {
      "text/plain": [
       "array([[ 6,  7],\n",
       "       [11, 12]])"
      ]
     },
     "execution_count": 28,
     "metadata": {},
     "output_type": "execute_result"
    }
   ],
   "source": [
    "ar2[1 :3,1:3]"
   ]
  },
  {
   "cell_type": "code",
   "execution_count": 34,
   "id": "08bc3aa5-6d09-41ed-b384-a81b1e07daf4",
   "metadata": {},
   "outputs": [
    {
     "data": {
      "text/plain": [
       "array([[ 6,  7],\n",
       "       [11, 12]])"
      ]
     },
     "execution_count": 34,
     "metadata": {},
     "output_type": "execute_result"
    }
   ],
   "source": [
    "ar2[-4:-2,-4:-2]"
   ]
  },
  {
   "cell_type": "code",
   "execution_count": 35,
   "id": "a40dee5b-37b2-483a-8c5a-3db63ccd25c9",
   "metadata": {},
   "outputs": [],
   "source": [
    "ar3=np.arange(50).reshape(5,10)\n",
    "#tasks\n",
    "#1.)to print 27,28,37,,38,--->\n",
    "#2.)Print 34,35,44,45\n",
    "#3.) Print 18,19\n",
    "#4.)Print 31,31,40,41"
   ]
  },
  {
   "cell_type": "code",
   "execution_count": 39,
   "id": "ef072754-5b63-4e67-b9af-db1c2b3aba6f",
   "metadata": {},
   "outputs": [
    {
     "data": {
      "text/plain": [
       "array([[ 0,  1,  2,  3,  4,  5,  6,  7,  8,  9],\n",
       "       [10, 11, 12, 13, 14, 15, 16, 17, 18, 19],\n",
       "       [20, 21, 22, 23, 24, 25, 26, 27, 28, 29],\n",
       "       [30, 31, 32, 33, 34, 35, 36, 37, 38, 39],\n",
       "       [40, 41, 42, 43, 44, 45, 46, 47, 48, 49]])"
      ]
     },
     "execution_count": 39,
     "metadata": {},
     "output_type": "execute_result"
    }
   ],
   "source": [
    "#linspace()\n",
    "ar3"
   ]
  },
  {
   "cell_type": "code",
   "execution_count": 37,
   "id": "e6adaa55-4f00-46db-8fff-2852bbdf11ab",
   "metadata": {},
   "outputs": [
    {
     "data": {
      "text/plain": [
       "1225"
      ]
     },
     "execution_count": 37,
     "metadata": {},
     "output_type": "execute_result"
    }
   ],
   "source": [
    "np.sum(ar3)"
   ]
  },
  {
   "cell_type": "code",
   "execution_count": 41,
   "id": "500b9a92-b98a-45cd-b91d-3827d60e5d52",
   "metadata": {},
   "outputs": [
    {
     "data": {
      "text/plain": [
       "array([100, 105, 110, 115, 120, 125, 130, 135, 140, 145])"
      ]
     },
     "execution_count": 41,
     "metadata": {},
     "output_type": "execute_result"
    }
   ],
   "source": [
    "#To add based on coloumn wise axis=0\n",
    "np.sum(ar3,axis=0) # here axis is in-built function\n"
   ]
  },
  {
   "cell_type": "code",
   "execution_count": 43,
   "id": "9bf62ffa-9024-4ddc-9285-23f4a37f002c",
   "metadata": {},
   "outputs": [
    {
     "data": {
      "text/plain": [
       "array([ 45, 145, 245, 345, 445])"
      ]
     },
     "execution_count": 43,
     "metadata": {},
     "output_type": "execute_result"
    }
   ],
   "source": [
    "# To add based on row wise axis=1\n",
    "np.sum(ar3,axis=1)"
   ]
  },
  {
   "cell_type": "code",
   "execution_count": 45,
   "id": "26a0ca4b-4265-43dd-9351-05eaf557e324",
   "metadata": {},
   "outputs": [],
   "source": [
    "#IMP POINTS\n",
    "#1.mean --->average\n",
    "#2.meadian--->center value\n",
    "#3.mode ---> max num of repeated elements\n",
    "#4.variance ---> meadian/toatal num of elements\n",
    "#5.std deviation --->sqrt of variance\n",
    "\n"
   ]
  },
  {
   "cell_type": "code",
   "execution_count": 46,
   "id": "089457f3-655a-44b4-aa49-bacefbe2b86e",
   "metadata": {},
   "outputs": [
    {
     "data": {
      "text/plain": [
       "array([1.        , 1.08163265, 1.16326531, 1.24489796, 1.32653061,\n",
       "       1.40816327, 1.48979592, 1.57142857, 1.65306122, 1.73469388,\n",
       "       1.81632653, 1.89795918, 1.97959184, 2.06122449, 2.14285714,\n",
       "       2.2244898 , 2.30612245, 2.3877551 , 2.46938776, 2.55102041,\n",
       "       2.63265306, 2.71428571, 2.79591837, 2.87755102, 2.95918367,\n",
       "       3.04081633, 3.12244898, 3.20408163, 3.28571429, 3.36734694,\n",
       "       3.44897959, 3.53061224, 3.6122449 , 3.69387755, 3.7755102 ,\n",
       "       3.85714286, 3.93877551, 4.02040816, 4.10204082, 4.18367347,\n",
       "       4.26530612, 4.34693878, 4.42857143, 4.51020408, 4.59183673,\n",
       "       4.67346939, 4.75510204, 4.83673469, 4.91836735, 5.        ])"
      ]
     },
     "execution_count": 46,
     "metadata": {},
     "output_type": "execute_result"
    }
   ],
   "source": [
    "#linspace()\n",
    "#DEFINATION : It is used to print the evenly seperated pointed between 2 range of values\n",
    "#-->linspace(start,end)\n",
    "np.linspace(1,5)"
   ]
  },
  {
   "cell_type": "code",
   "execution_count": 48,
   "id": "8b6095c7-27fa-41ee-9903-d915f5c9c7c9",
   "metadata": {},
   "outputs": [
    {
     "data": {
      "text/plain": [
       "array([ 1,  4,  7, 10])"
      ]
     },
     "execution_count": 48,
     "metadata": {},
     "output_type": "execute_result"
    }
   ],
   "source": [
    "#---> linspace9start,end,num of values)\n",
    "np.linspace(1,10,4,dtype=int)"
   ]
  },
  {
   "cell_type": "code",
   "execution_count": 49,
   "id": "b36a4028-04cd-452f-b72f-100e7b3b6f42",
   "metadata": {},
   "outputs": [
    {
     "data": {
      "text/plain": [
       "(array([12.        , 13.63636364, 15.27272727, 16.90909091, 18.54545455,\n",
       "        20.18181818, 21.81818182, 23.45454545, 25.09090909, 26.72727273,\n",
       "        28.36363636, 30.        ]),\n",
       " 1.6363636363636365)"
      ]
     },
     "execution_count": 49,
     "metadata": {},
     "output_type": "execute_result"
    }
   ],
   "source": [
    "np.linspace(12,30,12,retstep=True)"
   ]
  },
  {
   "cell_type": "code",
   "execution_count": 51,
   "id": "ae15f764-21e6-4f83-aea6-ae81843e37f9",
   "metadata": {},
   "outputs": [
    {
     "data": {
      "text/plain": [
       "20"
      ]
     },
     "execution_count": 51,
     "metadata": {},
     "output_type": "execute_result"
    }
   ],
   "source": [
    "# random module\n",
    "#np.random.randint(start,end)\n",
    "#To generate random numbers btween the range\n",
    "#np.random.randint(40)\n",
    "# OR\n",
    "np.random.randint(20,30)"
   ]
  },
  {
   "cell_type": "code",
   "execution_count": 53,
   "id": "eaaef503-4e3a-4430-a5c1-445ea86484e7",
   "metadata": {},
   "outputs": [
    {
     "data": {
      "text/plain": [
       "12"
      ]
     },
     "execution_count": 53,
     "metadata": {},
     "output_type": "execute_result"
    }
   ],
   "source": [
    "\n",
    "np.random.randint(30)"
   ]
  },
  {
   "cell_type": "code",
   "execution_count": 56,
   "id": "602eb858-1bdb-4808-9361-6e1484bc0b53",
   "metadata": {},
   "outputs": [
    {
     "data": {
      "text/plain": [
       "array([28, 25, 21])"
      ]
     },
     "execution_count": 56,
     "metadata": {},
     "output_type": "execute_result"
    }
   ],
   "source": [
    "np.random.randint(20,30,3) #np.random.randint(start,end,numof values we want)"
   ]
  },
  {
   "cell_type": "code",
   "execution_count": 57,
   "id": "a55ab5cf-da74-4167-958c-8c28b42f6924",
   "metadata": {},
   "outputs": [
    {
     "data": {
      "text/plain": [
       "array([0.11263212, 0.06564924, 0.88370747, 0.73466643])"
      ]
     },
     "execution_count": 57,
     "metadata": {},
     "output_type": "execute_result"
    }
   ],
   "source": [
    "#rand() ---->\n",
    "# To get the randomly generated from 0 t0 1,based on Uniform distribution\n",
    "np.random.rand(4)"
   ]
  },
  {
   "cell_type": "code",
   "execution_count": 58,
   "id": "3787c35b-1160-4c40-b9ae-97d5c6e05ceb",
   "metadata": {},
   "outputs": [
    {
     "data": {
      "text/plain": [
       "array([0.65996337, 0.59296264, 0.48081156, 0.71308929, 0.0712408 ,\n",
       "       0.33761391, 0.01123771])"
      ]
     },
     "execution_count": 58,
     "metadata": {},
     "output_type": "execute_result"
    }
   ],
   "source": [
    "np.random.rand(7)"
   ]
  },
  {
   "cell_type": "code",
   "execution_count": 59,
   "id": "2867d3f8-5e91-4238-8a3d-e7272e226964",
   "metadata": {},
   "outputs": [
    {
     "data": {
      "text/plain": [
       "array([[0.32046938, 0.04256049, 0.74093648, 0.17172613],\n",
       "       [0.22175685, 0.80099486, 0.92687278, 0.32485233],\n",
       "       [0.47609008, 0.99458745, 0.58060946, 0.07228435]])"
      ]
     },
     "execution_count": 59,
     "metadata": {},
     "output_type": "execute_result"
    }
   ],
   "source": [
    "np.random.rand(3,4)  #(3 rows,4 columns)"
   ]
  },
  {
   "cell_type": "code",
   "execution_count": 60,
   "id": "1d29564f-7085-4118-b555-b1c37d3bb45d",
   "metadata": {},
   "outputs": [
    {
     "data": {
      "text/plain": [
       "array([ 1.9509859 , -0.93478099,  0.81873608,  0.230556  , -1.14020109])"
      ]
     },
     "execution_count": 60,
     "metadata": {},
     "output_type": "execute_result"
    }
   ],
   "source": [
    "#rand()----->\n",
    "# To get the randomly generated from 0 t0 1,based on Normalized distribution\n",
    "\n",
    "np.random.randn(5)"
   ]
  },
  {
   "cell_type": "code",
   "execution_count": 61,
   "id": "c03a4a57-5224-4e09-ac7e-92e4a6a9315b",
   "metadata": {},
   "outputs": [
    {
     "data": {
      "text/plain": [
       "array([[ 0.99275966, -0.13746307,  0.02867556, -0.18769086],\n",
       "       [ 0.85547883,  2.11177203,  0.53806882,  0.03097438],\n",
       "       [ 0.66461736, -0.1965324 ,  0.6309606 ,  1.84827197],\n",
       "       [ 1.23024033,  1.29876508,  0.56216065,  0.42259453],\n",
       "       [ 0.56105256, -0.98166523,  0.97550673, -1.55164223]])"
      ]
     },
     "execution_count": 61,
     "metadata": {},
     "output_type": "execute_result"
    }
   ],
   "source": [
    "np.random.randn(5,4)"
   ]
  },
  {
   "cell_type": "code",
   "execution_count": 62,
   "id": "173d852f-7343-419c-a669-9a3f2cfa727d",
   "metadata": {},
   "outputs": [
    {
     "data": {
      "text/plain": [
       "49"
      ]
     },
     "execution_count": 62,
     "metadata": {},
     "output_type": "execute_result"
    }
   ],
   "source": [
    "ar3.max()"
   ]
  },
  {
   "cell_type": "code",
   "execution_count": 63,
   "id": "18205d7e-f5bf-4d72-bd29-51e19e68d8f5",
   "metadata": {},
   "outputs": [
    {
     "data": {
      "text/plain": [
       "0"
      ]
     },
     "execution_count": 63,
     "metadata": {},
     "output_type": "execute_result"
    }
   ],
   "source": [
    "ar3.min()"
   ]
  },
  {
   "cell_type": "code",
   "execution_count": 67,
   "id": "79365422-a6bc-4b65-bcce-aa372ea8bc72",
   "metadata": {},
   "outputs": [
    {
     "name": "stdout",
     "output_type": "stream",
     "text": [
      "4\n",
      "2\n"
     ]
    }
   ],
   "source": [
    "#To find the index of min values\n",
    "l=[56,89,90,67,45]\n",
    "print(l.index(45))\n",
    "print(l.index(90))"
   ]
  },
  {
   "cell_type": "code",
   "execution_count": 68,
   "id": "5cb3139d-c573-494b-87fc-d3e54f347be6",
   "metadata": {},
   "outputs": [
    {
     "name": "stdout",
     "output_type": "stream",
     "text": [
      "[[0, 1, 2, 3, 4, 5, 6, 7, 8, 9], [10, 11, 12, 13, 14, 15, 16, 17, 18, 19], [20, 21, 22, 23, 24, 25, 26, 27, 28, 29], [30, 31, 32, 33, 34, 35, 36, 37, 38, 39], [40, 41, 42, 43, 44, 45, 46, 47, 48, 49]]\n"
     ]
    }
   ],
   "source": [
    "print(ar3.tolist()) "
   ]
  },
  {
   "cell_type": "code",
   "execution_count": 72,
   "id": "6e9124c2-1de3-44ac-b5e5-d9fb4a6f0267",
   "metadata": {},
   "outputs": [
    {
     "name": "stdout",
     "output_type": "stream",
     "text": [
      "4\n",
      "2\n"
     ]
    }
   ],
   "source": [
    "# armin() and argmax() are used to find min and max of an array by converting list into an array\n",
    "l=[56,89,90,67,45]\n",
    "np1=np.array(l)\n",
    "print(np1.argmin())   # argmin() ---> Used to find min value of index  in an array\n",
    "print(np1.argmax())   # argmax() ---> Used to find max value of index in an array"
   ]
  },
  {
   "cell_type": "code",
   "execution_count": 73,
   "id": "4fb33c85-d412-438b-b1c2-095facaa4669",
   "metadata": {},
   "outputs": [
    {
     "data": {
      "text/plain": [
       "array([-0.61127369,  1.68582537, -1.99520041,  1.65231726,  1.61977519])"
      ]
     },
     "execution_count": 73,
     "metadata": {},
     "output_type": "execute_result"
    }
   ],
   "source": [
    "np.sin(np1)\n",
    "np.cos(np1)\n",
    "np.tan(np1)"
   ]
  },
  {
   "cell_type": "code",
   "execution_count": 74,
   "id": "938789b2-4f5a-4a64-8105-b749bfd7e834",
   "metadata": {},
   "outputs": [
    {
     "data": {
      "text/plain": [
       "array([-1.63592842,  0.59318125, -0.50120278,  0.60521065,  0.61736962])"
      ]
     },
     "execution_count": 74,
     "metadata": {},
     "output_type": "execute_result"
    }
   ],
   "source": [
    "np.cos(np1)/np.sin(np1)"
   ]
  },
  {
   "cell_type": "code",
   "execution_count": 89,
   "id": "d3cfbe8c-f376-4187-b828-382e5b030ee6",
   "metadata": {},
   "outputs": [],
   "source": [
    "fname=np.array([\"sita\",\"lali\"],dtype=str)\n",
    "lname=np.array(['t',\"ln1\",\"ln2\"],dtype=str)\n"
   ]
  },
  {
   "cell_type": "code",
   "execution_count": null,
   "id": "fce3679e-7167-4a7d-a467-efee701055f6",
   "metadata": {},
   "outputs": [],
   "source": [
    "#pandas\n",
    "#pandas is built on numpy,numpy is required for operating pandas\n",
    "import pandas as pd"
   ]
  },
  {
   "cell_type": "code",
   "execution_count": 6,
   "id": "d6b691ed-cbc4-4e12-939c-c0fd4002f330",
   "metadata": {},
   "outputs": [
    {
     "data": {
      "text/plain": [
       "0    10\n",
       "1    20\n",
       "2    30\n",
       "dtype: int64"
      ]
     },
     "execution_count": 6,
     "metadata": {},
     "output_type": "execute_result"
    }
   ],
   "source": [
    "import numpy as np\n",
    "labels=['a','b','c']\n",
    "my_data=[10,20,30]\n",
    "arr=np.array(my_data)\n",
    "d={'a':100,'b':200,'c':300}\n",
    "pd.Series(my_data)"
   ]
  },
  {
   "cell_type": "code",
   "execution_count": 9,
   "id": "3ee1a039-7520-48ef-9e31-82f88dc2d619",
   "metadata": {},
   "outputs": [],
   "source": [
    "ser1=pd.Series([1,2,3,4,5],['australia','india','newzealand','usa','uk'])"
   ]
  },
  {
   "cell_type": "code",
   "execution_count": 10,
   "id": "dfbfa78b-d25c-4e95-8928-deb9e540eb16",
   "metadata": {},
   "outputs": [
    {
     "data": {
      "text/plain": [
       "australia     1\n",
       "india         2\n",
       "newzealand    3\n",
       "usa           4\n",
       "uk            5\n",
       "dtype: int64"
      ]
     },
     "execution_count": 10,
     "metadata": {},
     "output_type": "execute_result"
    }
   ],
   "source": [
    "ser1"
   ]
  },
  {
   "cell_type": "code",
   "execution_count": 11,
   "id": "4e373056-14b0-4952-9ae0-d156d83f30f8",
   "metadata": {},
   "outputs": [
    {
     "data": {
      "text/plain": [
       "2"
      ]
     },
     "execution_count": 11,
     "metadata": {},
     "output_type": "execute_result"
    }
   ],
   "source": [
    "ser1['india']"
   ]
  },
  {
   "cell_type": "code",
   "execution_count": 4,
   "id": "334477dc-dc1b-4927-b7b2-510819824c11",
   "metadata": {},
   "outputs": [],
   "source": [
    "\n",
    "ser1=pd.Series([1,2,3,4,5],['australia','india','newzealand','usa','uk'])"
   ]
  },
  {
   "cell_type": "code",
   "execution_count": 6,
   "id": "1c849531-1e49-4299-b13c-74cd5367c09d",
   "metadata": {},
   "outputs": [
    {
     "data": {
      "text/plain": [
       "india         2\n",
       "newzealand    3\n",
       "dtype: int64"
      ]
     },
     "execution_count": 6,
     "metadata": {},
     "output_type": "execute_result"
    }
   ],
   "source": [
    "ser1[1:3]"
   ]
  },
  {
   "cell_type": "code",
   "execution_count": 8,
   "id": "93e1ec05-834d-4c58-8f4d-3eef0b0f085d",
   "metadata": {},
   "outputs": [],
   "source": [
    "import numpy as np\n",
    "df=pd.DataFrame(np.random.randn(5,4),['a','b','c','d','e'])"
   ]
  },
  {
   "cell_type": "code",
   "execution_count": 9,
   "id": "e197dbc8-1cc2-4696-ba1c-26b394afd2e3",
   "metadata": {},
   "outputs": [
    {
     "data": {
      "text/html": [
       "<div>\n",
       "<style scoped>\n",
       "    .dataframe tbody tr th:only-of-type {\n",
       "        vertical-align: middle;\n",
       "    }\n",
       "\n",
       "    .dataframe tbody tr th {\n",
       "        vertical-align: top;\n",
       "    }\n",
       "\n",
       "    .dataframe thead th {\n",
       "        text-align: right;\n",
       "    }\n",
       "</style>\n",
       "<table border=\"1\" class=\"dataframe\">\n",
       "  <thead>\n",
       "    <tr style=\"text-align: right;\">\n",
       "      <th></th>\n",
       "      <th>0</th>\n",
       "      <th>1</th>\n",
       "      <th>2</th>\n",
       "      <th>3</th>\n",
       "    </tr>\n",
       "  </thead>\n",
       "  <tbody>\n",
       "    <tr>\n",
       "      <th>a</th>\n",
       "      <td>-0.755815</td>\n",
       "      <td>0.054605</td>\n",
       "      <td>-1.445321</td>\n",
       "      <td>-0.015912</td>\n",
       "    </tr>\n",
       "    <tr>\n",
       "      <th>b</th>\n",
       "      <td>-0.680714</td>\n",
       "      <td>-0.123603</td>\n",
       "      <td>0.348570</td>\n",
       "      <td>-0.865926</td>\n",
       "    </tr>\n",
       "    <tr>\n",
       "      <th>c</th>\n",
       "      <td>0.088328</td>\n",
       "      <td>-0.016228</td>\n",
       "      <td>1.778424</td>\n",
       "      <td>-0.039553</td>\n",
       "    </tr>\n",
       "    <tr>\n",
       "      <th>d</th>\n",
       "      <td>0.343176</td>\n",
       "      <td>0.636433</td>\n",
       "      <td>0.847087</td>\n",
       "      <td>-1.059862</td>\n",
       "    </tr>\n",
       "    <tr>\n",
       "      <th>e</th>\n",
       "      <td>-0.365278</td>\n",
       "      <td>-1.198730</td>\n",
       "      <td>-0.456698</td>\n",
       "      <td>-0.064870</td>\n",
       "    </tr>\n",
       "  </tbody>\n",
       "</table>\n",
       "</div>"
      ],
      "text/plain": [
       "          0         1         2         3\n",
       "a -0.755815  0.054605 -1.445321 -0.015912\n",
       "b -0.680714 -0.123603  0.348570 -0.865926\n",
       "c  0.088328 -0.016228  1.778424 -0.039553\n",
       "d  0.343176  0.636433  0.847087 -1.059862\n",
       "e -0.365278 -1.198730 -0.456698 -0.064870"
      ]
     },
     "execution_count": 9,
     "metadata": {},
     "output_type": "execute_result"
    }
   ],
   "source": [
    "df"
   ]
  },
  {
   "cell_type": "code",
   "execution_count": 10,
   "id": "bb4a1b3f-f487-48b0-ba17-6cb3e9d62e93",
   "metadata": {},
   "outputs": [
    {
     "data": {
      "text/plain": [
       "{'col': [1, 2], 'co12': [3, 4], 'co13': [5, 6]}"
      ]
     },
     "execution_count": 10,
     "metadata": {},
     "output_type": "execute_result"
    }
   ],
   "source": [
    "d={'col':[1,2],'co12':[3,4],'co13':[5,6]}\n",
    "d"
   ]
  },
  {
   "cell_type": "code",
   "execution_count": 11,
   "id": "1bb9f911-1e88-4c6f-8c1d-a60781a409f5",
   "metadata": {},
   "outputs": [
    {
     "data": {
      "text/html": [
       "<div>\n",
       "<style scoped>\n",
       "    .dataframe tbody tr th:only-of-type {\n",
       "        vertical-align: middle;\n",
       "    }\n",
       "\n",
       "    .dataframe tbody tr th {\n",
       "        vertical-align: top;\n",
       "    }\n",
       "\n",
       "    .dataframe thead th {\n",
       "        text-align: right;\n",
       "    }\n",
       "</style>\n",
       "<table border=\"1\" class=\"dataframe\">\n",
       "  <thead>\n",
       "    <tr style=\"text-align: right;\">\n",
       "      <th></th>\n",
       "      <th>col</th>\n",
       "      <th>co12</th>\n",
       "      <th>co13</th>\n",
       "    </tr>\n",
       "  </thead>\n",
       "  <tbody>\n",
       "    <tr>\n",
       "      <th>0</th>\n",
       "      <td>1</td>\n",
       "      <td>3</td>\n",
       "      <td>5</td>\n",
       "    </tr>\n",
       "    <tr>\n",
       "      <th>1</th>\n",
       "      <td>2</td>\n",
       "      <td>4</td>\n",
       "      <td>6</td>\n",
       "    </tr>\n",
       "  </tbody>\n",
       "</table>\n",
       "</div>"
      ],
      "text/plain": [
       "   col  co12  co13\n",
       "0    1     3     5\n",
       "1    2     4     6"
      ]
     },
     "execution_count": 11,
     "metadata": {},
     "output_type": "execute_result"
    }
   ],
   "source": [
    "df=pd.DataFrame(data=d)\n",
    "df"
   ]
  },
  {
   "cell_type": "code",
   "execution_count": 12,
   "id": "918651ce-f193-456b-b1e3-2bbaa990f37b",
   "metadata": {},
   "outputs": [],
   "source": [
    "df=pd.DataFrame(d,['row1','row2'])"
   ]
  },
  {
   "cell_type": "code",
   "execution_count": 13,
   "id": "25571db6-8576-4fe1-88ed-94db22bf1e0d",
   "metadata": {},
   "outputs": [
    {
     "data": {
      "text/plain": [
       "pandas.core.frame.DataFrame"
      ]
     },
     "execution_count": 13,
     "metadata": {},
     "output_type": "execute_result"
    }
   ],
   "source": [
    "type(df)"
   ]
  },
  {
   "cell_type": "code",
   "execution_count": 14,
   "id": "ff6ef3d6-0e48-4109-aacf-33d37efd114e",
   "metadata": {},
   "outputs": [
    {
     "name": "stdout",
     "output_type": "stream",
     "text": [
      "<class 'pandas.core.frame.DataFrame'>\n",
      "Index: 2 entries, row1 to row2\n",
      "Data columns (total 3 columns):\n",
      " #   Column  Non-Null Count  Dtype\n",
      "---  ------  --------------  -----\n",
      " 0   col     2 non-null      int64\n",
      " 1   co12    2 non-null      int64\n",
      " 2   co13    2 non-null      int64\n",
      "dtypes: int64(3)\n",
      "memory usage: 64.0+ bytes\n"
     ]
    }
   ],
   "source": [
    "df.info()"
   ]
  },
  {
   "cell_type": "code",
   "execution_count": 15,
   "id": "bf837a25-4af7-4418-bebb-e2d12ccafabf",
   "metadata": {},
   "outputs": [
    {
     "data": {
      "text/plain": [
       "array([[1, 3, 5],\n",
       "       [2, 4, 6]], dtype=int64)"
      ]
     },
     "execution_count": 15,
     "metadata": {},
     "output_type": "execute_result"
    }
   ],
   "source": [
    "df.values"
   ]
  },
  {
   "cell_type": "code",
   "execution_count": 16,
   "id": "a376bfcb-ee08-40b5-a377-c7087c187200",
   "metadata": {},
   "outputs": [
    {
     "data": {
      "text/plain": [
       "[Index(['row1', 'row2'], dtype='object'),\n",
       " Index(['col', 'co12', 'co13'], dtype='object')]"
      ]
     },
     "execution_count": 16,
     "metadata": {},
     "output_type": "execute_result"
    }
   ],
   "source": [
    "df.axes"
   ]
  },
  {
   "cell_type": "code",
   "execution_count": 17,
   "id": "c5797481-cf4c-4bed-8ba3-7694d55b52c6",
   "metadata": {},
   "outputs": [
    {
     "data": {
      "text/plain": [
       "6"
      ]
     },
     "execution_count": 17,
     "metadata": {},
     "output_type": "execute_result"
    }
   ],
   "source": [
    "df.size"
   ]
  },
  {
   "cell_type": "code",
   "execution_count": 23,
   "id": "144ccc4d-d0a4-4c48-80b1-825059a1b6ee",
   "metadata": {},
   "outputs": [
    {
     "data": {
      "text/html": [
       "<div>\n",
       "<style scoped>\n",
       "    .dataframe tbody tr th:only-of-type {\n",
       "        vertical-align: middle;\n",
       "    }\n",
       "\n",
       "    .dataframe tbody tr th {\n",
       "        vertical-align: top;\n",
       "    }\n",
       "\n",
       "    .dataframe thead th {\n",
       "        text-align: right;\n",
       "    }\n",
       "</style>\n",
       "<table border=\"1\" class=\"dataframe\">\n",
       "  <thead>\n",
       "    <tr style=\"text-align: right;\">\n",
       "      <th></th>\n",
       "      <th>col</th>\n",
       "      <th>co12</th>\n",
       "      <th>co13</th>\n",
       "    </tr>\n",
       "  </thead>\n",
       "  <tbody>\n",
       "    <tr>\n",
       "      <th>0</th>\n",
       "      <td>1</td>\n",
       "      <td>3</td>\n",
       "      <td>5</td>\n",
       "    </tr>\n",
       "    <tr>\n",
       "      <th>1</th>\n",
       "      <td>2</td>\n",
       "      <td>4</td>\n",
       "      <td>6</td>\n",
       "    </tr>\n",
       "  </tbody>\n",
       "</table>\n",
       "</div>"
      ],
      "text/plain": [
       "   col  co12  co13\n",
       "0    1     3     5\n",
       "1    2     4     6"
      ]
     },
     "execution_count": 23,
     "metadata": {},
     "output_type": "execute_result"
    }
   ],
   "source": [
    "df=pd.DataFrame(data=d)\n",
    "df"
   ]
  },
  {
   "cell_type": "code",
   "execution_count": 25,
   "id": "57fffdb6-7fe2-41bf-9e47-c2e4564818d1",
   "metadata": {},
   "outputs": [
    {
     "data": {
      "text/plain": [
       "col     int64\n",
       "co12    int64\n",
       "co13    int64\n",
       "dtype: object"
      ]
     },
     "execution_count": 25,
     "metadata": {},
     "output_type": "execute_result"
    }
   ],
   "source": [
    "df.dtypes"
   ]
  },
  {
   "cell_type": "code",
   "execution_count": 35,
   "id": "8d0d3111-c8a9-4fba-8ebd-a9f454438dc9",
   "metadata": {},
   "outputs": [
    {
     "data": {
      "text/html": [
       "<div>\n",
       "<style scoped>\n",
       "    .dataframe tbody tr th:only-of-type {\n",
       "        vertical-align: middle;\n",
       "    }\n",
       "\n",
       "    .dataframe tbody tr th {\n",
       "        vertical-align: top;\n",
       "    }\n",
       "\n",
       "    .dataframe thead th {\n",
       "        text-align: right;\n",
       "    }\n",
       "</style>\n",
       "<table border=\"1\" class=\"dataframe\">\n",
       "  <thead>\n",
       "    <tr style=\"text-align: right;\">\n",
       "      <th></th>\n",
       "      <th>0</th>\n",
       "      <th>1</th>\n",
       "    </tr>\n",
       "  </thead>\n",
       "  <tbody>\n",
       "    <tr>\n",
       "      <th>col</th>\n",
       "      <td>1</td>\n",
       "      <td>2</td>\n",
       "    </tr>\n",
       "    <tr>\n",
       "      <th>co12</th>\n",
       "      <td>3</td>\n",
       "      <td>4</td>\n",
       "    </tr>\n",
       "    <tr>\n",
       "      <th>co13</th>\n",
       "      <td>5</td>\n",
       "      <td>6</td>\n",
       "    </tr>\n",
       "  </tbody>\n",
       "</table>\n",
       "</div>"
      ],
      "text/plain": [
       "      0  1\n",
       "col   1  2\n",
       "co12  3  4\n",
       "co13  5  6"
      ]
     },
     "execution_count": 35,
     "metadata": {},
     "output_type": "execute_result"
    }
   ],
   "source": [
    "df.T"
   ]
  },
  {
   "cell_type": "code",
   "execution_count": 28,
   "id": "7ab898af-0f3f-4484-8fba-ba11b5e9c0d6",
   "metadata": {},
   "outputs": [
    {
     "data": {
      "text/plain": [
       "Index(['col', 'co12', 'co13'], dtype='object')"
      ]
     },
     "execution_count": 28,
     "metadata": {},
     "output_type": "execute_result"
    }
   ],
   "source": [
    "df.columns"
   ]
  },
  {
   "cell_type": "code",
   "execution_count": 34,
   "id": "a31782f7-ae69-47f8-87ac-95d9a0ca8158",
   "metadata": {},
   "outputs": [
    {
     "data": {
      "text/plain": [
       "(array([[ 1.32322062,  1.70441183, -1.46486266, -0.34105014],\n",
       "        [ 1.22774951, -2.11649552,  0.03972749, -1.54976152],\n",
       "        [ 1.02482663, -1.05898313,  0.42940314, -0.07153094],\n",
       "        [-1.88100751, -0.15428558, -0.34407224,  2.60635229],\n",
       "        [-0.48440798,  2.16382876,  0.70725987, -0.20553693]]),\n",
       " ['A', 'B', 'C', 'D', 'E'],\n",
       " ['W', 'X', 'Y', 'Z'])"
      ]
     },
     "execution_count": 34,
     "metadata": {},
     "output_type": "execute_result"
    }
   ],
   "source": [
    "np.random.randn(5, 4), ['A','B','C','D','E'],['W','X','Y','Z']"
   ]
  },
  {
   "cell_type": "code",
   "execution_count": 29,
   "id": "5497ea8d-4b09-4128-adee-969e044e75c1",
   "metadata": {},
   "outputs": [
    {
     "data": {
      "text/plain": [
       "array([[1, 3, 5],\n",
       "       [2, 4, 6]], dtype=int64)"
      ]
     },
     "execution_count": 29,
     "metadata": {},
     "output_type": "execute_result"
    }
   ],
   "source": [
    "df.values"
   ]
  },
  {
   "cell_type": "code",
   "execution_count": 30,
   "id": "9ea805dc-0ccf-4243-8491-ae8c56734684",
   "metadata": {},
   "outputs": [
    {
     "data": {
      "text/plain": [
       "2"
      ]
     },
     "execution_count": 30,
     "metadata": {},
     "output_type": "execute_result"
    }
   ],
   "source": [
    "df.ndim"
   ]
  },
  {
   "cell_type": "code",
   "execution_count": 33,
   "id": "a75c244a-0592-4351-a253-f4f2ad0412ed",
   "metadata": {},
   "outputs": [
    {
     "data": {
      "text/plain": [
       "0    1\n",
       "1    2\n",
       "Name: col, dtype: int64"
      ]
     },
     "execution_count": 33,
     "metadata": {},
     "output_type": "execute_result"
    }
   ],
   "source": [
    "df['col']"
   ]
  },
  {
   "cell_type": "code",
   "execution_count": 36,
   "id": "fbcf51e5-2113-4817-84c4-244ab4b86ee3",
   "metadata": {},
   "outputs": [],
   "source": [
    "#TASKS:"
   ]
  },
  {
   "cell_type": "code",
   "execution_count": 38,
   "id": "e3a109c8-3b3d-42ee-b89b-c1d46241215c",
   "metadata": {},
   "outputs": [
    {
     "name": "stdout",
     "output_type": "stream",
     "text": [
      "Result:\n",
      "[[ 1  2  3]\n",
      " [45  4  7]\n",
      " [ 9  6 10]\n",
      " [12 23 45]]\n"
     ]
    }
   ],
   "source": [
    "#TASK 1.) Add anothjer row to this arrayrow to be added = [12,23,45] ini_array = np.array([[1, 2, 3], [45, 4, 7], [9, 6, 10]]\n",
    "\n",
    "import numpy as np\n",
    "ini_array = np.array([[1, 2, 3], [45, 4, 7], [9, 6, 10]])\n",
    "row_to_be_added = np.array([12, 23, 45])\n",
    "result = np.vstack((ini_array, row_to_be_added))\n",
    "print(\"Result:\")\n",
    "print(result)\n"
   ]
  },
  {
   "cell_type": "code",
   "execution_count": 39,
   "id": "de848977-db10-405c-8c0d-fc810a8eb2ea",
   "metadata": {},
   "outputs": [
    {
     "name": "stdout",
     "output_type": "stream",
     "text": [
      "Frequency of elements in the series:\n",
      "2    4\n",
      "1    3\n",
      "3    3\n",
      "4    2\n",
      "5    1\n",
      "Name: count, dtype: int64\n"
     ]
    }
   ],
   "source": [
    "#TASK 2.)Find the frequency of all element in the series se = pd.Series([1,1,1,2,2,2,2,3,3,3,4,4,5])\n",
    "\n",
    "import pandas as pd\n",
    "se = pd.Series([1, 1, 1, 2, 2, 2, 2, 3, 3, 3, 4, 4, 5])\n",
    "frequency = se.value_counts()\n",
    "print(\"Frequency of elements in the series:\")\n",
    "print(frequency)\n"
   ]
  },
  {
   "cell_type": "code",
   "execution_count": 40,
   "id": "e8d3f2eb-4dec-450b-9e73-f730e1c7e7d3",
   "metadata": {},
   "outputs": [
    {
     "name": "stdout",
     "output_type": "stream",
     "text": [
      "   0  1  2  3  4\n",
      "0  7  2  3  8  2\n",
      "1  7  5  1  7  3\n",
      "2  6  6  1  2  4\n",
      "3  4  8  6  8  5\n",
      "4  3  3  5  4  6\n",
      "5  5  4  4  2  2\n",
      "6  8  2  7  6  4\n"
     ]
    }
   ],
   "source": [
    "#TASK 3.)Reshape the series ser into a dataframe ser = pd.Series(np.random.randint(1, 10, 35))\n",
    "\n",
    "import pandas as pd\n",
    "import numpy as np\n",
    "ser = pd.Series(np.random.randint(1, 10, 35))\n",
    "# Reshape the series into a DataFrame with 7 rows and 5 columns\n",
    "df = pd.DataFrame(ser.values.reshape(7, 5))\n",
    "print(df)\n"
   ]
  },
  {
   "cell_type": "code",
   "execution_count": 41,
   "id": "f170cead-0d5b-437d-abab-852e0b47d459",
   "metadata": {},
   "outputs": [
    {
     "name": "stdout",
     "output_type": "stream",
     "text": [
      "Positions of numbers that are multiples of 3:\n",
      "Index([1, 2, 8], dtype='int64')\n"
     ]
    }
   ],
   "source": [
    "#TASK 4.)Find the positions of numbers that are multiples of 3 from ser  ser = pd.Series(np.random.randint(1, 10, 10))import pandas as pd\n",
    "\n",
    "import numpy as np\n",
    "ser = pd.Series(np.random.randint(1, 10, 10))\n",
    "# Find positions of numbers that are multiples of 3\n",
    "positions = ser.index[ser % 3 == 0]\n",
    "print(\"Positions of numbers that are multiples of 3:\")\n",
    "print(positions)\n"
   ]
  },
  {
   "cell_type": "code",
   "execution_count": null,
   "id": "4b741a4f-0bf8-4b5d-9cbb-08551fab9cd2",
   "metadata": {},
   "outputs": [],
   "source": []
  }
 ],
 "metadata": {
  "kernelspec": {
   "display_name": "Python 3 (ipykernel)",
   "language": "python",
   "name": "python3"
  },
  "language_info": {
   "codemirror_mode": {
    "name": "ipython",
    "version": 3
   },
   "file_extension": ".py",
   "mimetype": "text/x-python",
   "name": "python",
   "nbconvert_exporter": "python",
   "pygments_lexer": "ipython3",
   "version": "3.12.2"
  }
 },
 "nbformat": 4,
 "nbformat_minor": 5
}
